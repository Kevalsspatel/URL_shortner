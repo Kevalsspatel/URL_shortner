{
  "nbformat": 4,
  "nbformat_minor": 0,
  "metadata": {
    "colab": {
      "name": "url_shortner.ipynb",
      "provenance": [],
      "collapsed_sections": [],
      "authorship_tag": "ABX9TyPc8oe8xLAbj24ZNKVwZqra",
      "include_colab_link": true
    },
    "kernelspec": {
      "name": "python3",
      "display_name": "Python 3"
    }
  },
  "cells": [
    {
      "cell_type": "markdown",
      "metadata": {
        "id": "view-in-github",
        "colab_type": "text"
      },
      "source": [
        "<a href=\"https://colab.research.google.com/github/Kevalsspatel/URL_shortner/blob/master/url_shortner.ipynb\" target=\"_parent\"><img src=\"https://colab.research.google.com/assets/colab-badge.svg\" alt=\"Open In Colab\"/></a>"
      ]
    },
    {
      "cell_type": "code",
      "metadata": {
        "id": "P0Tt5S0w-M9P",
        "colab_type": "code",
        "colab": {}
      },
      "source": [
        "pip install pyshorteners"
      ],
      "execution_count": null,
      "outputs": []
    },
    {
      "cell_type": "code",
      "metadata": {
        "id": "vOWCq1f9-bPv",
        "colab_type": "code",
        "colab": {}
      },
      "source": [
        "import pyshorteners\n",
        "\n"
      ],
      "execution_count": 11,
      "outputs": []
    },
    {
      "cell_type": "code",
      "metadata": {
        "id": "hgi5BMO3-1ma",
        "colab_type": "code",
        "colab": {}
      },
      "source": [
        "link = input('enter the link : ')\n",
        "shortener = pyshorteners.Shortener()\n",
        "x = shortener.tinyurl.short(link)\n",
        "print(x)"
      ],
      "execution_count": null,
      "outputs": []
    }
  ]
}